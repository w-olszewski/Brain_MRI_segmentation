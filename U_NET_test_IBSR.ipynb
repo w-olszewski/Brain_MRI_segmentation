{
  "nbformat": 4,
  "nbformat_minor": 0,
  "metadata": {
    "colab": {
      "provenance": [],
      "authorship_tag": "ABX9TyPf1lcVazlv1GOwdBmFfZtE",
      "include_colab_link": true
    },
    "kernelspec": {
      "name": "python3",
      "display_name": "Python 3"
    },
    "language_info": {
      "name": "python"
    },
    "accelerator": "GPU",
    "gpuClass": "standard"
  },
  "cells": [
    {
      "cell_type": "markdown",
      "metadata": {
        "id": "view-in-github",
        "colab_type": "text"
      },
      "source": [
        "<a href=\"https://colab.research.google.com/github/w-olszewski/Brain_MRI_segmentation/blob/main/U_NET_test_IBSR.ipynb\" target=\"_parent\"><img src=\"https://colab.research.google.com/assets/colab-badge.svg\" alt=\"Open In Colab\"/></a>"
      ]
    },
    {
      "cell_type": "code",
      "source": [
        "!pip install torch\n",
        "!pip install torchio\n",
        "!pip install torchmetrics\n",
        "from torchmetrics.functional import dice\n",
        "import xml.etree.ElementTree as ET\n",
        "import pandas as pd\n",
        "import multiprocessing\n",
        "import torch\n",
        "import torchio as tio\n",
        "import torch.nn as nn\n",
        "import torch.nn.functional as F\n",
        "import torch.optim as optim\n",
        "import torch.utils.data as data\n",
        "import torch.nn.functional as F\n",
        "import numpy as np\n",
        "import time\n",
        "import os\n",
        "import random\n",
        "import matplotlib.pyplot as plt\n",
        "from matplotlib import colors\n",
        "import glob\n",
        "from pathlib import Path\n",
        "import nibabel as nib\n",
        "import enum\n",
        "import torchvision\n",
        "from tqdm import tqdm\n",
        "from IPython import display\n",
        "from scipy import stats\n",
        "import tarfile"
      ],
      "metadata": {
        "id": "FQ_cTJcR9fw3"
      },
      "execution_count": null,
      "outputs": []
    },
    {
      "cell_type": "code",
      "execution_count": null,
      "metadata": {
        "id": "eWfwCsbF6dq3"
      },
      "outputs": [],
      "source": [
        "# Accessing dataset\n",
        "\n",
        "from google.colab import drive\n",
        "drive.mount('/content/MyDrive')\n",
        "\n",
        "datafiles = os.path.abspath('/content/MyDrive/MyDrive/Colab_Notebooks/UNET/MICCAI_MultiAtlasChallenge2012_corrected/Testing/IBSR')\n",
        "\n",
        "datafiles_dir = Path(datafiles)\n",
        "\n",
        "%cd /content/MyDrive/MyDrive/Colab_Notebooks/UNET/MICCAI_MultiAtlasChallenge2012_corrected/Testing/IBSR\n"
      ]
    },
    {
      "cell_type": "code",
      "source": [
        "images_dir = os.path.abspath('Images')\n",
        "masks_dir = os.path.abspath('LabelMap')\n",
        "\n",
        "images = []\n",
        "\n",
        "image_names = sorted(os.listdir(images_dir))\n",
        "for image_name in image_names:\n",
        "    image = tio.ScalarImage(os.path.join(images_dir, image_name))\n",
        "    images.append(image)\n",
        "\n",
        "labels = []\n",
        "\n",
        "label_names = sorted(os.listdir(masks_dir))\n",
        "for label_name in label_names:\n",
        "    label = tio.LabelMap(os.path.join(masks_dir, label_name))\n",
        "    labels.append(label)\n",
        "\n",
        "x = 0\n",
        "\n",
        "subjects = []\n",
        "for (image, label) in zip(images, labels):\n",
        "    subject = tio.Subject(\n",
        "        mri= image,\n",
        "        brain= label,\n",
        "        name = (image_names[x])\n",
        "    )\n",
        "    x += 1\n",
        "\n",
        "    subjects.append(subject)\n",
        "dataset = tio.SubjectsDataset(subjects)\n",
        "print('Dataset size:', len(dataset), 'subjects')"
      ],
      "metadata": {
        "id": "kLYENLR_VgYP"
      },
      "execution_count": null,
      "outputs": []
    },
    {
      "cell_type": "code",
      "source": [
        "names = [subject.name for subject in dataset.dry_iter()]\n",
        "print(names)"
      ],
      "metadata": {
        "id": "-oF0roO5VtWx"
      },
      "execution_count": null,
      "outputs": []
    },
    {
      "cell_type": "code",
      "source": [
        "img_dir = datafiles_dir / '../Images'\n",
        "\n",
        "img_paths = sorted(img_dir.glob('*.nii'))\n",
        "\n",
        "num_workers = multiprocessing.cpu_count()\n",
        "histogram_landmarks_path = 'landmarks.npy'\n",
        "landmarks = tio.HistogramStandardization.train(\n",
        "    img_paths,\n",
        "    output_path=histogram_landmarks_path,\n",
        ")\n",
        "\n",
        "np.set_printoptions(suppress=True, precision=3)\n",
        "print('\\nTrained landmarks:', landmarks)"
      ],
      "metadata": {
        "id": "wsY3S3bQAXHI"
      },
      "execution_count": null,
      "outputs": []
    },
    {
      "cell_type": "code",
      "source": [
        "landmarks_dict = {'mri': landmarks}\n",
        "\n",
        "testing_transform = tio.Compose([\n",
        "    tio.ToCanonical(),\n",
        "    tio.Resample(4),\n",
        "    tio.HistogramStandardization(landmarks_dict),\n",
        "    tio.ZNormalization(masking_method=tio.ZNormalization.mean),\n",
        "    tio.OneHot(),\n",
        "])\n",
        "\n",
        "testing_set = tio.SubjectsDataset(\n",
        "    dataset, transform=testing_transform)"
      ],
      "metadata": {
        "id": "S5-RdW7LJVu0"
      },
      "execution_count": null,
      "outputs": []
    },
    {
      "cell_type": "code",
      "source": [
        "#@title\n",
        "# U-NET model\n",
        "# 4 convolution layers\n",
        "\n",
        "class UNet(nn.Module):\n",
        "    def __init__(self, input_channel=1, output_channel=208, num_filter=32):\n",
        "        super(UNet, self).__init__()\n",
        "\n",
        "        # Encoder path\n",
        "\n",
        "        n = num_filter  # 32\n",
        "        self.conv1 = nn.Sequential(\n",
        "            nn.Conv3d(input_channel, n, kernel_size=3, padding=1),\n",
        "            nn.BatchNorm3d(n),\n",
        "            nn.ReLU(),\n",
        "            nn.Conv3d(n, n, kernel_size=3, padding=1),\n",
        "            nn.BatchNorm3d(n),\n",
        "            nn.ReLU()\n",
        "        )\n",
        "\n",
        "        self.pool1 = nn.MaxPool3d(kernel_size=2, stride=2)\n",
        "\n",
        "        n = n * 2  # 64\n",
        "        self.conv2 = nn.Sequential(\n",
        "            nn.Conv3d(int(n / 2), n, kernel_size=3, padding=1),\n",
        "            nn.BatchNorm3d(n),\n",
        "            nn.ReLU(),\n",
        "            nn.Conv3d(n, n, kernel_size=3, padding=1),\n",
        "            nn.BatchNorm3d(n),\n",
        "            nn.ReLU()\n",
        "        )\n",
        "\n",
        "        self.pool2 = nn.MaxPool3d(kernel_size=2, stride=2)\n",
        "\n",
        "        n = n * 2  # 128\n",
        "        self.conv3 = nn.Sequential(\n",
        "            nn.Conv3d(int(n / 2), n, kernel_size=3, padding=1),\n",
        "            nn.BatchNorm3d(n),\n",
        "            nn.ReLU(),\n",
        "            nn.Conv3d(n, n, kernel_size=3, padding=1),\n",
        "            nn.BatchNorm3d(n),\n",
        "            nn.ReLU()\n",
        "        )\n",
        "\n",
        "        self.pool3 = nn.MaxPool3d(kernel_size=2, stride=2)\n",
        "\n",
        "        n = n * 2  # 256\n",
        "        self.conv4 = nn.Sequential(\n",
        "            nn.Conv3d(int(n / 2), n, kernel_size=3, padding=1),\n",
        "            nn.BatchNorm3d(n),\n",
        "            nn.ReLU(),\n",
        "            nn.Conv3d(n, n, kernel_size=3, padding=1),\n",
        "            nn.BatchNorm3d(n),\n",
        "            nn.ReLU()\n",
        "        )\n",
        "\n",
        "        self.drop = nn.Dropout(p=0.5)\n",
        "\n",
        "       # Decoder path\n",
        "\n",
        "        n = int(n / 2)  # 128\n",
        "        self.up3 = nn.ConvTranspose3d(n * 2, n, kernel_size=3, stride=2, padding=1, output_padding=1)\n",
        "\n",
        "        self.conv_up3 = nn.Sequential(\n",
        "            nn.Conv3d(n * 2, n, kernel_size=3, padding=1),\n",
        "            nn.BatchNorm3d(n),\n",
        "            nn.ReLU(),\n",
        "            nn.Conv3d(n, n, kernel_size=3, padding=1),\n",
        "            nn.BatchNorm3d(n),\n",
        "            nn.ReLU()\n",
        "        )\n",
        "\n",
        "        n = int(n / 2)  # 64\n",
        "        self.up2 = nn.ConvTranspose3d(n * 2, n, kernel_size=3, stride=2, padding=1, output_padding=1)\n",
        "\n",
        "        self.conv_up2 = nn.Sequential(\n",
        "            nn.Conv3d(n * 2, n, kernel_size=3, padding=1),\n",
        "            nn.BatchNorm3d(n),\n",
        "            nn.ReLU(),\n",
        "            nn.Conv3d(n, n, kernel_size=3, padding=1),\n",
        "            nn.BatchNorm3d(n),\n",
        "            nn.ReLU()\n",
        "        )\n",
        "\n",
        "        n = int(n / 2)  # 32\n",
        "        self.up1 = nn.ConvTranspose3d(n * 2, n, kernel_size=3, stride=2, padding=1, output_padding=1)\n",
        "\n",
        "        self.conv_up1 = nn.Sequential(\n",
        "            nn.Conv3d(n * 2, n, kernel_size=3, padding=1),\n",
        "            nn.BatchNorm3d(n),\n",
        "            nn.ReLU(),\n",
        "            nn.Conv3d(n, n, kernel_size=3, padding=1),\n",
        "            nn.BatchNorm3d(n),\n",
        "            nn.ReLU(),\n",
        "        )\n",
        "\n",
        "        self.out = nn.Conv3d(n, output_channel, kernel_size=1, padding=0)\n",
        "\n",
        "    def forward(self, x):\n",
        "\n",
        "        x = self.conv1(x)\n",
        "        conv1_skip = x\n",
        "\n",
        "        x = self.pool1(x)\n",
        "\n",
        "        x = self.conv2(x)\n",
        "        conv2_skip = x\n",
        "\n",
        "        x = self.pool2(x)\n",
        "\n",
        "        x = self.conv3(x)\n",
        "        conv3_skip = x\n",
        "\n",
        "        x = self.pool3(x)\n",
        "\n",
        "        x = self.conv4(x)\n",
        "\n",
        "        x = self.drop(x)\n",
        "\n",
        "        x = self.up3(x)\n",
        "        x = self.conv_up3(torch.cat([conv3_skip, x], dim=1))\n",
        "\n",
        "        x = self.up2(x)\n",
        "        x = self.conv_up2(torch.cat([conv2_skip, x], dim=1))\n",
        "\n",
        "        x = self.up1(x)\n",
        "        x = self.conv_up1(torch.cat([conv1_skip, x], dim=1))\n",
        "\n",
        "        x = self.out(x)\n",
        "\n",
        "        return x\n"
      ],
      "metadata": {
        "id": "kAmoW4CG-J54"
      },
      "execution_count": null,
      "outputs": []
    },
    {
      "cell_type": "code",
      "source": [
        "device = torch.device('cuda') if torch.cuda.is_available() else 'cpu'\n",
        "\n",
        "def prepare_batch(batch, device):\n",
        "    inputs = batch['mri'][tio.DATA].to(device)\n",
        "    return inputs\n"
      ],
      "metadata": {
        "id": "LXIenfmr-lDr"
      },
      "execution_count": null,
      "outputs": []
    },
    {
      "cell_type": "code",
      "source": [
        "model_dir = '../../Training/saved_models'\n",
        "\n",
        "model = UNet().to(device)\n",
        "model.load_state_dict(torch.load(os.path.join(model_dir, 'model.pt'), map_location=device))\n",
        "\n",
        "subject = random.choice(testing_set)\n",
        "\n",
        "patch_size = 48, 48, 48\n",
        "patch_overlap = 4, 4, 4\n",
        "grid_sampler = tio.inference.GridSampler(\n",
        "    subject,\n",
        "    patch_size,\n",
        "    patch_overlap,\n",
        ")\n",
        "patch_loader = torch.utils.data.DataLoader(\n",
        "    grid_sampler, batch_size=16)\n",
        "aggregator = tio.inference.GridAggregator(\n",
        "    grid_sampler, 'average')\n",
        "\n",
        "\n",
        "for batch_idx, batch in enumerate(tqdm(patch_loader)):\n",
        "    images = prepare_batch(batch, device)\n",
        "images = images.clone().detach()\n",
        "images = images.to(device, dtype=torch.float32)\n",
        "\n",
        "\n",
        "model.eval()\n",
        "with torch.no_grad():\n",
        "    for batch in patch_loader:\n",
        "        locations = batch[tio.LOCATION]\n",
        "        logits = model(images)\n",
        "        seg_patch = logits.argmax(dim=1, keepdim=True)\n",
        "        outputs = seg_patch\n",
        "        aggregator.add_batch(outputs, locations)\n",
        "\n",
        "predicted = aggregator.get_output_tensor().to(device)\n"
      ],
      "metadata": {
        "id": "bUpkKy2W6u1-"
      },
      "execution_count": null,
      "outputs": []
    },
    {
      "cell_type": "code",
      "source": [
        "print(subject.name)"
      ],
      "metadata": {
        "id": "u7pcg5mubTwq"
      },
      "execution_count": null,
      "outputs": []
    },
    {
      "cell_type": "code",
      "source": [
        "predicted = predicted.cpu().numpy()\n",
        "affine = subject.mri.affine\n",
        "segmentation = tio.LabelMap(tensor=predicted, affine=affine)\n",
        "\n",
        "segmentation.plot()\n",
        "print(segmentation)"
      ],
      "metadata": {
        "colab": {
          "base_uri": "https://localhost:8080/",
          "height": 311
        },
        "id": "f3sR1w1ePZ1I",
        "outputId": "d70bf0a3-5ab8-4a30-b287-58b83288ea43"
      },
      "execution_count": null,
      "outputs": [
        {
          "output_type": "display_data",
          "data": {
            "text/plain": [
              "<Figure size 640x480 with 3 Axes>"
            ],
            "image/png": "[encoded data removed]"
          },
          "metadata": {}
        },
        {
          "output_type": "stream",
          "name": "stdout",
          "text": [
            "LabelMap(shape: (1, 64, 48, 64); spacing: (4.00, 4.00, 4.00); orientation: RAS+; dtype: torch.FloatTensor; memory: 768.0 KiB)\n"
          ]
        }
      ]
    },
    {
      "cell_type": "code",
      "source": [
        "img_dir = datafiles_dir / 'Images'\n",
        "raw_image = img_dir / str(subject.name)\n",
        "print(str(raw_image))"
      ],
      "metadata": {
        "id": "QYE5JkeNbhGI"
      },
      "execution_count": null,
      "outputs": []
    },
    {
      "cell_type": "code",
      "source": [
        "segmentation = tio.Resample(raw_image)(segmentation)"
      ],
      "metadata": {
        "id": "wqKR9CRDbkGq"
      },
      "execution_count": null,
      "outputs": []
    },
    {
      "cell_type": "code",
      "source": [
        "segmentation = np.squeeze(segmentation, axis=0)\n",
        "print(segmentation.shape)"
      ],
      "metadata": {
        "id": "yXUMwRuDblsj"
      },
      "execution_count": null,
      "outputs": []
    },
    {
      "cell_type": "code",
      "source": [
        "nib.Nifti1Header.quaternion_threshold = -1e-06\n",
        "nim = nib.load(raw_image)\n",
        "\n",
        "Nifty = nib.Nifti1Image(segmentation, nim.affine)\n",
        "Nifty.header['pixdim'] = nim.header['pixdim']\n",
        "nib.save(Nifty, filename='segmentation_' + str(subject.name))"
      ],
      "metadata": {
        "id": "_Nfe5GSEboS6"
      },
      "execution_count": null,
      "outputs": []
    },
    {
      "cell_type": "code",
      "source": [
        "target_dir = datafiles_dir / 'LabelMap'\n",
        "\n",
        "target_name = target_dir / str(subject.name)\n",
        "\n",
        "target = nib.load(target_name)\n",
        "\n",
        "target = nib.squeeze_image(target)\n",
        "\n",
        "def np_categorical_dice(pred, truth, k, k1):\n",
        "    \"\"\" Dice overlap metric for label k \"\"\"\n",
        "    A = (pred == k).astype(np.float32)\n",
        "    B = (truth == k1).astype(np.float32)\n",
        "    return 2 * np.sum(A * B) / (np.sum(A) + np.sum(B))"
      ],
      "metadata": {
        "id": "TmI8vVYIbq5x"
      },
      "execution_count": null,
      "outputs": []
    },
    {
      "cell_type": "code",
      "source": [
        "for k in range(85):\n",
        "    dice = np_categorical_dice(Nifty.get_fdata(), target.get_fdata(), k)\n",
        "    print('Label '+str(k)+' has dice score '+str(dice))"
      ],
      "metadata": {
        "id": "rAdPhSD1b3S3"
      },
      "execution_count": null,
      "outputs": []
    },
    {
      "cell_type": "code",
      "source": [
        "import xml.etree.ElementTree as ET\n",
        "import pandas as pd\n",
        "\n",
        "label_list = datafiles_dir / '''''''''''''insert .xml dir'''''''''''''\n",
        "\n",
        "xml_data = open(label_list, 'r').read()\n",
        "root = ET.XML(xml_data)\n",
        "\n",
        "data = []\n",
        "cols = []\n",
        "for i, child in enumerate(root):\n",
        "    data.append([subchild.text for subchild in child])\n",
        "    cols.append(child.tag)\n",
        "\n",
        "df = pd.DataFrame(data, dtype=str)\n",
        "df.columns = ['Name', 'Index', 'RGBColor']\n",
        "df.columns = df.columns.astype(str)\n",
        "print(df)"
      ],
      "metadata": {
        "id": "AcoShsSjb9W_"
      },
      "execution_count": null,
      "outputs": []
    },
    {
      "cell_type": "code",
      "source": [
        "FIRST = 0\n",
        "\n",
        "subject = tio.Subject(\n",
        "    mri=tio.ScalarImage(tensor=batch['mri'][tio.DATA][FIRST]),\n",
        "    label=tio.LabelMap(tensor=batch['brain'][tio.DATA][FIRST]),\n",
        "    predicted=tio.ScalarImage(tensor=predicted),\n",
        ")\n",
        "subject.plot(figsize=(9, 8), cmap_dict={'predicted': 'RdBu_r'})"
      ],
      "metadata": {
        "colab": {
          "base_uri": "https://localhost:8080/",
          "height": 716
        },
        "id": "Grfu8EtDUzFR",
        "outputId": "e7ef3d85-6ff5-4a69-b520-65cee51bdf84"
      },
      "execution_count": null,
      "outputs": [
        {
          "output_type": "display_data",
          "data": {
            "text/plain": [
              "<Figure size 900x800 with 9 Axes>"
            ],
            "image/png": "[encoded data removed]"
          },
          "metadata": {}
        }
      ]
    }
  ]
}